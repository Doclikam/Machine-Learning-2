{
  "cells": [
    {
      "cell_type": "markdown",
      "metadata": {
        "id": "view-in-github",
        "colab_type": "text"
      },
      "source": [
        "<a href=\"https://colab.research.google.com/github/Doclikam/Machine-Learning-2/blob/main/Machine-Learning-2/week3_deep%20learning/dlpractice%20/learningtensorflow.ipynb\" target=\"_parent\"><img src=\"https://colab.research.google.com/assets/colab-badge.svg\" alt=\"Open In Colab\"/></a>"
      ]
    },
    {
      "cell_type": "markdown",
      "metadata": {
        "id": "bW3lPKKYPQsc"
      },
      "source": []
    },
    {
      "cell_type": "code",
      "execution_count": null,
      "metadata": {
        "id": "GI4WBdE5PP4d"
      },
      "outputs": [],
      "source": [
        "\n"
      ]
    },
    {
      "cell_type": "markdown",
      "metadata": {
        "id": "H25oXrlJyAUz"
      },
      "source": [
        "# **BRAIN TUMOUR CLASSIFICATION**"
      ]
    },
    {
      "cell_type": "markdown",
      "metadata": {
        "id": "IUvmKnvKx9EL"
      },
      "source": [
        "we are going to learn deep learning with brain tumor classification, understanding the coding and recapping on old concepts"
      ]
    },
    {
      "cell_type": "code",
      "execution_count": null,
      "metadata": {
        "id": "LQBDJ1WSXDe4"
      },
      "outputs": [],
      "source": [
        "import numpy as np\n",
        "import pandas as pd\n",
        "import matplotlib.pyplot as plt\n",
        "import seaborn as sns\n",
        "import warnings"
      ]
    },
    {
      "cell_type": "code",
      "execution_count": null,
      "metadata": {
        "id": "G3ddVeuq7jyx"
      },
      "outputs": [],
      "source": [
        "import tensorflow as tf\n",
        "from tensorflow.keras.model import Model, Sequential\n",
        "from tensorflor.keras.layers import Input, Dense, Flatten, Conv2D, Dropout, MaxPooling2D, BatchNormalization, GlobalAveragePooling2D\n",
        "\n"
      ]
    },
    {
      "cell_type": "markdown",
      "metadata": {
        "id": "7IYZmq5ox7Ws"
      },
      "source": [
        "x=tf.variable([1.,2.], dtype=tf.float64\n",
        "x handle a mutable tensor which can survive during multiple execution, the trainable parameters: weights, biases are stored in tensors held in variables.\n",
        "\n",
        "high level archietcture\n",
        "1st layer:device layer: contains implementation to communicate with diffferent devices such as cpu, gpu, or tpu in the operating system.\n",
        "network layer: has implementation to communicate to different machines using network protocols\n",
        "2nd layer: kernel implemenations const, var,conv2d, Relu,MatMul"
      ]
    },
    {
      "cell_type": "code",
      "execution_count": null,
      "metadata": {
        "id": "XPQa7yV43xpu"
      },
      "outputs": [],
      "source": [
        "import tensorflow as tf"
      ]
    },
    {
      "cell_type": "markdown",
      "metadata": {
        "id": "ubZrD6r0A7H-"
      },
      "source": [
        "# Tensorflow initialization methods"
      ]
    },
    {
      "cell_type": "code",
      "execution_count": null,
      "metadata": {
        "colab": {
          "base_uri": "https://localhost:8080/"
        },
        "id": "fFyenScqJKRK",
        "outputId": "8b3424fe-c95d-412d-e300-758462d3aa65"
      },
      "outputs": [
        {
          "name": "stdout",
          "output_type": "stream",
          "text": [
            "tf.Tensor(4, shape=(), dtype=int32)\n"
          ]
        }
      ],
      "source": [
        "x=tf.constant(4)\n",
        "print(x)"
      ]
    },
    {
      "cell_type": "code",
      "execution_count": null,
      "metadata": {
        "colab": {
          "base_uri": "https://localhost:8080/"
        },
        "id": "HWniiKfp33WL",
        "outputId": "756974fd-010f-4ecc-c620-88f009976159"
      },
      "outputs": [
        {
          "name": "stdout",
          "output_type": "stream",
          "text": [
            "tf.Tensor([[4.]], shape=(1, 1), dtype=float32)\n"
          ]
        }
      ],
      "source": [
        "x=tf.constant(4.0, shape=(1,1), dtype=tf.float32)\n",
        "print(x)"
      ]
    },
    {
      "cell_type": "code",
      "execution_count": null,
      "metadata": {
        "colab": {
          "base_uri": "https://localhost:8080/"
        },
        "id": "UgRd7UPa4Q1n",
        "outputId": "e32d2296-d3c7-4123-b9dd-ba2f910eef5c"
      },
      "outputs": [
        {
          "name": "stdout",
          "output_type": "stream",
          "text": [
            "tf.Tensor(\n",
            "[[3. 4. 5.]\n",
            " [5. 7. 8.]], shape=(2, 3), dtype=float32)\n"
          ]
        }
      ],
      "source": [
        "x=tf.constant([[3,4,5],[5,7,8]], shape=(2,3), dtype=tf.float32)\n",
        "print(x)"
      ]
    },
    {
      "cell_type": "code",
      "execution_count": null,
      "metadata": {
        "colab": {
          "base_uri": "https://localhost:8080/"
        },
        "id": "ufrnFX2z4oJr",
        "outputId": "47df3fb6-7e16-41ee-9f70-bb6cb1ec8521"
      },
      "outputs": [
        {
          "name": "stdout",
          "output_type": "stream",
          "text": [
            "tf.Tensor(\n",
            "[[1. 1. 1.]\n",
            " [1. 1. 1.]\n",
            " [1. 1. 1.]], shape=(3, 3), dtype=float32)\n"
          ]
        }
      ],
      "source": [
        "x=tf.ones((3,3))\n",
        "print(x)"
      ]
    },
    {
      "cell_type": "code",
      "execution_count": null,
      "metadata": {
        "colab": {
          "base_uri": "https://localhost:8080/"
        },
        "id": "kug9VVVU5G5r",
        "outputId": "81ac5986-40da-4527-bc46-8047da8d07ab"
      },
      "outputs": [
        {
          "data": {
            "text/plain": [
              "<tf.Tensor: shape=(4, 4), dtype=float32, numpy=\n",
              "array([[1., 0., 0., 0.],\n",
              "       [0., 1., 0., 0.],\n",
              "       [0., 0., 1., 0.],\n",
              "       [0., 0., 0., 1.]], dtype=float32)>"
            ]
          },
          "execution_count": 12,
          "metadata": {},
          "output_type": "execute_result"
        }
      ],
      "source": [
        "tf.eye(4)"
      ]
    },
    {
      "cell_type": "code",
      "execution_count": null,
      "metadata": {
        "colab": {
          "base_uri": "https://localhost:8080/"
        },
        "id": "mk3JfqSP_muv",
        "outputId": "a69438f8-1377-403e-8d9b-b847f5e016ab"
      },
      "outputs": [
        {
          "name": "stdout",
          "output_type": "stream",
          "text": [
            "tf.Tensor(\n",
            "[[ 0.5482195   1.0535793   1.6388694 ]\n",
            " [ 0.29554552  1.0880467  -0.45902056]\n",
            " [-0.63560665  0.45971313 -1.250507  ]], shape=(3, 3), dtype=float32)\n"
          ]
        }
      ],
      "source": [
        "x=tf.random.normal((3,3), mean=0, stddev=1)\n",
        "print(x)"
      ]
    },
    {
      "cell_type": "code",
      "execution_count": null,
      "metadata": {
        "colab": {
          "base_uri": "https://localhost:8080/"
        },
        "id": "cGLfdX67Ae9i",
        "outputId": "8a00ba30-5518-45d6-81f3-b8675ed19cdc"
      },
      "outputs": [
        {
          "name": "stdout",
          "output_type": "stream",
          "text": [
            "tf.Tensor(\n",
            "[[1.2501464  2.422381   3.7212071 ]\n",
            " [1.1693425  0.78100395 0.46613312]], shape=(2, 3), dtype=float32)\n"
          ]
        }
      ],
      "source": [
        "x=tf.random.uniform((2,3), minval=0, maxval=4)\n",
        "print(x)\n"
      ]
    },
    {
      "cell_type": "code",
      "execution_count": null,
      "metadata": {
        "colab": {
          "base_uri": "https://localhost:8080/"
        },
        "id": "2-8WGQOsBO6g",
        "outputId": "d464e592-1d70-42fd-9d56-2c231923beed"
      },
      "outputs": [
        {
          "name": "stdout",
          "output_type": "stream",
          "text": [
            "tf.Tensor([0 1 2 3 4 5 6 7], shape=(8,), dtype=int32)\n"
          ]
        }
      ],
      "source": [
        "x=tf.range(8)\n",
        "print(x)"
      ]
    },
    {
      "cell_type": "code",
      "execution_count": null,
      "metadata": {
        "colab": {
          "base_uri": "https://localhost:8080/"
        },
        "id": "hbcpQL6eBeX4",
        "outputId": "4282f133-a03e-4321-e68a-de0ef1a16a1f"
      },
      "outputs": [
        {
          "name": "stdout",
          "output_type": "stream",
          "text": [
            "tf.Tensor([1. 4. 7.], shape=(3,), dtype=float64)\n"
          ]
        }
      ],
      "source": [
        "x=tf.range(start=1, limit=10, delta=3)\n",
        "x=tf.cast(x,dtype=tf.float64)\n",
        "print(x)"
      ]
    },
    {
      "cell_type": "code",
      "execution_count": null,
      "metadata": {
        "colab": {
          "base_uri": "https://localhost:8080/"
        },
        "id": "FqXHhZgKJWRt",
        "outputId": "0fadf15b-3148-47dd-8b63-38f2eaef2008"
      },
      "outputs": [
        {
          "name": "stdout",
          "output_type": "stream",
          "text": [
            "tf.Tensor([4 6], shape=(2,), dtype=int32)\n"
          ]
        }
      ],
      "source": [
        "#mathematical operations\n",
        "x=tf.constant([1,2])\n",
        "y=tf.constant([3,4])\n",
        "z=tf.add(x,y)\n",
        "#or\n",
        "z=x+y\n",
        "  print(z)"
      ]
    },
    {
      "cell_type": "code",
      "execution_count": null,
      "metadata": {
        "colab": {
          "base_uri": "https://localhost:8080/"
        },
        "id": "aJHvavPZKWlH",
        "outputId": "b2b96101-fefb-47f7-ce19-cf9cf8999fb1"
      },
      "outputs": [
        {
          "name": "stdout",
          "output_type": "stream",
          "text": [
            "tf.Tensor([-2 -2], shape=(2,), dtype=int32)\n"
          ]
        }
      ],
      "source": [
        "z=tf.subtract(x,y)\n",
        "z=x-y\n",
        "print(z)"
      ]
    },
    {
      "cell_type": "code",
      "execution_count": null,
      "metadata": {
        "colab": {
          "base_uri": "https://localhost:8080/"
        },
        "id": "9JttiQGnKtfJ",
        "outputId": "dedf281a-75ca-4273-b029-e27b953c96de"
      },
      "outputs": [
        {
          "name": "stdout",
          "output_type": "stream",
          "text": [
            "tf.Tensor([0.33333333 0.5       ], shape=(2,), dtype=float64)\n"
          ]
        }
      ],
      "source": [
        "z=tf.divide(x,y)\n",
        "z=x/y\n",
        "print(z)"
      ]
    },
    {
      "cell_type": "code",
      "execution_count": null,
      "metadata": {
        "colab": {
          "base_uri": "https://localhost:8080/"
        },
        "id": "Frm3oWXGK1jM",
        "outputId": "c3f995d4-4f5d-48eb-be9d-2f1d8ae44807"
      },
      "outputs": [
        {
          "name": "stdout",
          "output_type": "stream",
          "text": [
            "tf.Tensor([3 8], shape=(2,), dtype=int32)\n"
          ]
        }
      ],
      "source": [
        "z=tf.multiply(x,y)\n",
        "z=x*y\n",
        "print(z)"
      ]
    },
    {
      "cell_type": "code",
      "execution_count": null,
      "metadata": {
        "colab": {
          "base_uri": "https://localhost:8080/"
        },
        "id": "Z60PBE9iLD8V",
        "outputId": "48ec4e8f-d293-4d2c-b1ee-fe44c2ec151d"
      },
      "outputs": [
        {
          "name": "stdout",
          "output_type": "stream",
          "text": [
            "tf.Tensor(11, shape=(), dtype=int32)\n"
          ]
        }
      ],
      "source": [
        "#dot product\n",
        "z=tf.tensordot(x,y, axes=1)\n",
        "print(z)"
      ]
    },
    {
      "cell_type": "code",
      "execution_count": null,
      "metadata": {
        "colab": {
          "base_uri": "https://localhost:8080/"
        },
        "id": "3VgeALcNLuRB",
        "outputId": "d5152f1b-c8d3-452b-c8fe-1c69265de5c3"
      },
      "outputs": [
        {
          "name": "stdout",
          "output_type": "stream",
          "text": [
            "tf.Tensor(11, shape=(), dtype=int32)\n"
          ]
        }
      ],
      "source": [
        "z=tf.reduce_sum(x*y, axis=0)\n",
        "print(z)"
      ]
    },
    {
      "cell_type": "code",
      "execution_count": null,
      "metadata": {
        "colab": {
          "base_uri": "https://localhost:8080/"
        },
        "id": "xwAEHj9FMD8S",
        "outputId": "fbe2f4b8-2e48-4691-8281-d192e53c00c4"
      },
      "outputs": [
        {
          "name": "stdout",
          "output_type": "stream",
          "text": [
            "tf.Tensor([ 1 32], shape=(2,), dtype=int32)\n"
          ]
        }
      ],
      "source": [
        "z=x**5\n",
        "print(z)"
      ]
    },
    {
      "cell_type": "code",
      "execution_count": null,
      "metadata": {
        "colab": {
          "base_uri": "https://localhost:8080/"
        },
        "id": "j-UhA4JnMS8A",
        "outputId": "d888ccb9-9da1-47ce-d8ff-2c8a6633d58c"
      },
      "outputs": [
        {
          "name": "stdout",
          "output_type": "stream",
          "text": [
            "tf.Tensor(\n",
            "[[-3.9637864  -0.550995   -1.0461249  -0.40287668]\n",
            " [ 2.9867013   1.5356514  -0.00950807  1.7823939 ]], shape=(2, 4), dtype=float32)\n"
          ]
        }
      ],
      "source": [
        "x=tf.random.normal((2,3))\n",
        "y=tf.random.normal((3,4))\n",
        "z=tf.matmul(x,y)\n",
        "z=x @ y\n",
        "print(z)"
      ]
    },
    {
      "cell_type": "code",
      "execution_count": null,
      "metadata": {
        "colab": {
          "base_uri": "https://localhost:8080/"
        },
        "id": "rY0mF90-KRbT",
        "outputId": "7e842f1f-cc2a-45a7-f4b0-0da0723f5364"
      },
      "outputs": [
        {
          "name": "stdout",
          "output_type": "stream",
          "text": [
            "tf.Tensor([1 2 3 4 5 6 7], shape=(7,), dtype=int32)\n"
          ]
        }
      ],
      "source": [
        "#indexing\n",
        "x=tf.constant([1,2,3,4,5,6,7])\n",
        "print(x[:])"
      ]
    },
    {
      "cell_type": "code",
      "execution_count": null,
      "metadata": {
        "colab": {
          "base_uri": "https://localhost:8080/"
        },
        "id": "UT66zh5xTnY-",
        "outputId": "4cd5a900-4b8f-48c2-ac71-40f1a1f4aea1"
      },
      "outputs": [
        {
          "name": "stdout",
          "output_type": "stream",
          "text": [
            "tf.Tensor([7 6 5 4 3 2 1], shape=(7,), dtype=int32)\n"
          ]
        }
      ],
      "source": [
        "print(x[::-1])"
      ]
    },
    {
      "cell_type": "code",
      "execution_count": null,
      "metadata": {
        "colab": {
          "base_uri": "https://localhost:8080/"
        },
        "id": "kxfwlQ86UDgh",
        "outputId": "e998b285-684f-4519-d0ba-da4418dab823"
      },
      "outputs": [
        {
          "name": "stdout",
          "output_type": "stream",
          "text": [
            "tf.Tensor(\n",
            "[[0 1 2]\n",
            " [3 4 5]\n",
            " [6 7 8]], shape=(3, 3), dtype=int32)\n"
          ]
        }
      ],
      "source": [
        "#reshaping\n",
        "x=tf.range(9)\n",
        "z=tf.reshape(x, (3,3))\n",
        "print(z)"
      ]
    },
    {
      "cell_type": "code",
      "execution_count": null,
      "metadata": {
        "colab": {
          "base_uri": "https://localhost:8080/"
        },
        "id": "A3Af9WhlVFfD",
        "outputId": "a650c741-03c7-4797-93f0-2ed25b97c5d6"
      },
      "outputs": [
        {
          "name": "stdout",
          "output_type": "stream",
          "text": [
            "tf.Tensor(\n",
            "[[0 3 6]\n",
            " [1 4 7]\n",
            " [2 5 8]], shape=(3, 3), dtype=int32)\n"
          ]
        }
      ],
      "source": [
        "x=tf.transpose(z, perm=[1,0])\n",
        "print(x)"
      ]
    },
    {
      "cell_type": "markdown",
      "metadata": {
        "id": "wectUFADcf6C"
      },
      "source": [
        "Building **Neurons**"
      ]
    },
    {
      "cell_type": "code",
      "source": [],
      "metadata": {
        "id": "7qUADqZWdZZw"
      },
      "execution_count": null,
      "outputs": []
    },
    {
      "cell_type": "code",
      "execution_count": 11,
      "metadata": {
        "id": "Mqq6dDk7dDGE"
      },
      "outputs": [],
      "source": [
        "import tensorflow as tf\n",
        "from tensorflow.keras import layers\n",
        "from tensorflow.keras.datasets import mnist"
      ]
    },
    {
      "cell_type": "code",
      "execution_count": 12,
      "metadata": {
        "colab": {
          "base_uri": "https://localhost:8080/"
        },
        "id": "CnbUjooehY4S",
        "outputId": "52137b08-f6c7-4c4e-989f-74a56fa8106e"
      },
      "outputs": [
        {
          "output_type": "stream",
          "name": "stdout",
          "text": [
            "(60000, 28, 28)\n",
            "(60000,)\n"
          ]
        }
      ],
      "source": [
        "#loaddataset\n",
        "(x_train,y_train), (x_test,y_test)=mnist.load_data()\n",
        "print(x_train.shape)\n",
        "print(y_train.shape)"
      ]
    },
    {
      "cell_type": "code",
      "execution_count": 13,
      "metadata": {
        "id": "2W_1Tk8FjpGS"
      },
      "outputs": [],
      "source": [
        "#reshape\n",
        "x_train=x_train.reshape(-1,28*28).astype('float32')/255.0"
      ]
    },
    {
      "cell_type": "code",
      "execution_count": 14,
      "metadata": {
        "id": "8Qu35CdZHLh7"
      },
      "outputs": [],
      "source": [
        "x_test=x_test.reshape(-1,28*28).astype('float32')/255.0"
      ]
    },
    {
      "cell_type": "code",
      "source": [
        "model=tf.keras.Sequential([layers.Dense(512,activation=('relu')), layers.Dense(512, activation=('relu')), layers.Dense(10)])"
      ],
      "metadata": {
        "id": "EErYtKcqdfDJ"
      },
      "execution_count": 15,
      "outputs": []
    },
    {
      "cell_type": "code",
      "source": [
        "model.compile(loss=tf.keras.losses.SparseCategoricalCrossentropy(from_logits=True), optimizer=tf.keras.optimizers.Adam(learning_rate=0.001), metrics=['accuracy'])"
      ],
      "metadata": {
        "id": "kqKywQgqejwy"
      },
      "execution_count": 22,
      "outputs": []
    },
    {
      "cell_type": "code",
      "source": [
        "model.fit(x_train, y_train, batch_size=32, epochs=5, verbose=2)"
      ],
      "metadata": {
        "colab": {
          "base_uri": "https://localhost:8080/"
        },
        "id": "iC2wWDIyfcjk",
        "outputId": "b1f532cf-eeec-41c9-92ce-bd26056cf088"
      },
      "execution_count": 23,
      "outputs": [
        {
          "output_type": "stream",
          "name": "stdout",
          "text": [
            "Epoch 1/5\n",
            "1875/1875 - 20s - 11ms/step - accuracy: 0.9456 - loss: 0.1808\n",
            "Epoch 2/5\n",
            "1875/1875 - 19s - 10ms/step - accuracy: 0.9746 - loss: 0.0807\n",
            "Epoch 3/5\n",
            "1875/1875 - 21s - 11ms/step - accuracy: 0.9829 - loss: 0.0547\n",
            "Epoch 4/5\n",
            "1875/1875 - 18s - 10ms/step - accuracy: 0.9871 - loss: 0.0425\n",
            "Epoch 5/5\n",
            "1875/1875 - 18s - 10ms/step - accuracy: 0.9885 - loss: 0.0344\n"
          ]
        },
        {
          "output_type": "execute_result",
          "data": {
            "text/plain": [
              "<keras.src.callbacks.history.History at 0x78b66773a0b0>"
            ]
          },
          "metadata": {},
          "execution_count": 23
        }
      ]
    },
    {
      "cell_type": "code",
      "source": [
        "model.evaluate(x_test, y_test, batch_size=32, verbose=2)"
      ],
      "metadata": {
        "colab": {
          "base_uri": "https://localhost:8080/"
        },
        "id": "xeEovZ9whpli",
        "outputId": "8dd13b91-3bff-4f02-e00d-e5fd33587913"
      },
      "execution_count": 24,
      "outputs": [
        {
          "output_type": "stream",
          "name": "stdout",
          "text": [
            "313/313 - 1s - 3ms/step - accuracy: 0.9814 - loss: 0.0734\n"
          ]
        },
        {
          "output_type": "execute_result",
          "data": {
            "text/plain": [
              "[0.07339823246002197, 0.9814000129699707]"
            ]
          },
          "metadata": {},
          "execution_count": 24
        }
      ]
    },
    {
      "cell_type": "code",
      "source": [
        "model=tf.keras.Sequential()\n",
        "model.add(tf.keras.Input(shape=(784), ))\n",
        "model.add(layers.Dense(512, activation='relu'))\n",
        "model.add(layers.Dense(256, activation='relu'))\n",
        "model.add(layers.Dense(10))\n",
        "\n",
        "model.summary()"
      ],
      "metadata": {
        "id": "alLfrXq8xBai"
      },
      "execution_count": null,
      "outputs": []
    },
    {
      "cell_type": "code",
      "source": [
        "#functional APi\n",
        "inputs=tf.keras.Input(shape=(784, ))\n",
        "x=layers.Dense(512, activation='relu')(inputs)\n",
        "x=layers.Dense(256,activation='relu')(x)\n",
        "output=layers.Dense(10, activation='softmax')(x)\n",
        "model=tf.keras.Model(inputs=inputs, outputs=output)\n",
        "\n",
        "\n",
        "model.compile(loss=tf.keras.losses.SparseCategoricalCrossentropy(from_logits=False), optimizer=tf.keras.optimizers.Adam(learning_rate=0.001), metrics=['accuracy'])\n",
        "model.fit(x_train, y_train, batch_size=32, epochs=5, verbose=2)\n",
        "model.evaluate(x_test, y_test, batch_size=32, verbose=2)"
      ],
      "metadata": {
        "colab": {
          "base_uri": "https://localhost:8080/"
        },
        "id": "OqIgiQR7y_hT",
        "outputId": "1e586204-f26d-4759-9aa9-10998465b3eb"
      },
      "execution_count": 33,
      "outputs": [
        {
          "output_type": "stream",
          "name": "stdout",
          "text": [
            "Epoch 1/5\n",
            "1875/1875 - 16s - 9ms/step - accuracy: 0.9424 - loss: 0.1864\n",
            "Epoch 2/5\n",
            "1875/1875 - 21s - 11ms/step - accuracy: 0.9758 - loss: 0.0779\n",
            "Epoch 3/5\n",
            "1875/1875 - 20s - 11ms/step - accuracy: 0.9833 - loss: 0.0535\n",
            "Epoch 4/5\n",
            "1875/1875 - 20s - 11ms/step - accuracy: 0.9862 - loss: 0.0410\n",
            "Epoch 5/5\n",
            "1875/1875 - 16s - 9ms/step - accuracy: 0.9890 - loss: 0.0332\n",
            "313/313 - 1s - 3ms/step - accuracy: 0.9782 - loss: 0.0766\n"
          ]
        },
        {
          "output_type": "execute_result",
          "data": {
            "text/plain": [
              "[0.07655492424964905, 0.9782000184059143]"
            ]
          },
          "metadata": {},
          "execution_count": 33
        }
      ]
    }
  ],
  "metadata": {
    "colab": {
      "provenance": [],
      "authorship_tag": "ABX9TyOLvVa1w+p5V+bQ5lG+kcoG",
      "include_colab_link": true
    },
    "kernelspec": {
      "display_name": "Python 3",
      "name": "python3"
    },
    "language_info": {
      "name": "python"
    }
  },
  "nbformat": 4,
  "nbformat_minor": 0
}